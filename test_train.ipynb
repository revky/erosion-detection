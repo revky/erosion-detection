{
 "cells": [
  {
   "cell_type": "code",
   "execution_count": 1,
   "id": "787ccc7f",
   "metadata": {},
   "outputs": [],
   "source": [
    "args = {\n",
    "    'image_path': 'data/raw/image.jp2',\n",
    "    'mask_path': 'data/raw/mask.jp2',\n",
    "    'patch_size': 256,\n",
    "    'images_dir': 'data/images/',\n",
    "    'masks_dir': 'data/masks/',\n",
    "    'mean_std_path': 'cashe/mean_std.pth',\n",
    "    'test_ratio': 0.1,\n",
    "    'device': 'cuda',\n",
    "    'batch_size': 8,\n",
    "    'num_workers': 0,\n",
    "    'lr': 1e-3,\n",
    "    'momentum': 0.9,\n",
    "    'weight_decay': 2e-5,\n",
    "    'epochs': 100,\n",
    "    'encoder_name': 'efficientnet-b6',\n",
    "    'encoder_weights': 'imagenet',\n",
    "    'model_save_path': 'model/best_model.pth',\n",
    "    'class_weight': 250,\n",
    "    'loss_fn': 'bce',\n",
    "    'opt': 'sgd',\n",
    "    'scheduler': 'plat',\n",
    "    'patience': 4,\n",
    "    'factor': 0.5,\n",
    "    'add_empty_masks': 40\n",
    "}"
   ]
  },
  {
   "cell_type": "code",
   "execution_count": 2,
   "id": "f6333e20",
   "metadata": {
    "scrolled": true
   },
   "outputs": [],
   "source": [
    "# %run make_dataset.py --patch_size 256"
   ]
  },
  {
   "cell_type": "code",
   "execution_count": 3,
   "id": "2efff02c",
   "metadata": {},
   "outputs": [],
   "source": [
    "import numpy as np\n",
    "import torch\n",
    "import re\n",
    "import torch.nn.functional as F\n",
    "import matplotlib.pyplot as plt\n",
    "from train import main, get_datasets, get_model"
   ]
  },
  {
   "cell_type": "code",
   "execution_count": null,
   "id": "cb0a01a4",
   "metadata": {
    "scrolled": false
   },
   "outputs": [
    {
     "data": {
      "application/vnd.jupyter.widget-view+json": {
       "model_id": "6724e63323d3449d8c711586c0369480",
       "version_major": 2,
       "version_minor": 0
      },
      "text/plain": [
       "  0%|          | 0/30 [00:00<?, ?it/s]"
      ]
     },
     "metadata": {},
     "output_type": "display_data"
    },
    {
     "data": {
      "application/vnd.jupyter.widget-view+json": {
       "model_id": "58078e55eb474711a3b32df00d868814",
       "version_major": 2,
       "version_minor": 0
      },
      "text/plain": [
       "  0%|          | 0/4 [00:00<?, ?it/s]"
      ]
     },
     "metadata": {},
     "output_type": "display_data"
    },
    {
     "name": "stdout",
     "output_type": "stream",
     "text": [
      "EPOCH 1| TRAIN LOSS: 2.579|  TEST LOSS: 2.677|  TEST_PRECISION: 0.013| TEST_RECALL: 1.000| TEST_ACCURACY: 0.013| TEST_F1: 0.026| TEST_IOU: 0.013| \n",
      "Saving new best model at model/best_model.pth\n"
     ]
    },
    {
     "data": {
      "application/vnd.jupyter.widget-view+json": {
       "model_id": "b6b2517e341546f78b8c2274b9fea1d4",
       "version_major": 2,
       "version_minor": 0
      },
      "text/plain": [
       "  0%|          | 0/30 [00:00<?, ?it/s]"
      ]
     },
     "metadata": {},
     "output_type": "display_data"
    },
    {
     "data": {
      "application/vnd.jupyter.widget-view+json": {
       "model_id": "a9c226fce35445118e90acf631fea78c",
       "version_major": 2,
       "version_minor": 0
      },
      "text/plain": [
       "  0%|          | 0/4 [00:00<?, ?it/s]"
      ]
     },
     "metadata": {},
     "output_type": "display_data"
    },
    {
     "name": "stdout",
     "output_type": "stream",
     "text": [
      "EPOCH 2| TRAIN LOSS: 2.392|  TEST LOSS: 2.503|  TEST_PRECISION: 0.013| TEST_RECALL: 1.000| TEST_ACCURACY: 0.013| TEST_F1: 0.025| TEST_IOU: 0.013| \n",
      "Saving new best model at model/best_model.pth\n"
     ]
    },
    {
     "data": {
      "application/vnd.jupyter.widget-view+json": {
       "model_id": "10788dc34c4f484f80f6ff074d26826c",
       "version_major": 2,
       "version_minor": 0
      },
      "text/plain": [
       "  0%|          | 0/30 [00:00<?, ?it/s]"
      ]
     },
     "metadata": {},
     "output_type": "display_data"
    },
    {
     "data": {
      "application/vnd.jupyter.widget-view+json": {
       "model_id": "8eb9ce5bb4c947efb3a64d41c5bb0344",
       "version_major": 2,
       "version_minor": 0
      },
      "text/plain": [
       "  0%|          | 0/4 [00:00<?, ?it/s]"
      ]
     },
     "metadata": {},
     "output_type": "display_data"
    },
    {
     "name": "stdout",
     "output_type": "stream",
     "text": [
      "EPOCH 3| TRAIN LOSS: 2.353|  TEST LOSS: 2.351|  TEST_PRECISION: 0.012| TEST_RECALL: 1.000| TEST_ACCURACY: 0.012| TEST_F1: 0.024| TEST_IOU: 0.012| \n",
      "Saving new best model at model/best_model.pth\n"
     ]
    },
    {
     "data": {
      "application/vnd.jupyter.widget-view+json": {
       "model_id": "6de31187263648b3b65676e224ecbffb",
       "version_major": 2,
       "version_minor": 0
      },
      "text/plain": [
       "  0%|          | 0/30 [00:00<?, ?it/s]"
      ]
     },
     "metadata": {},
     "output_type": "display_data"
    },
    {
     "data": {
      "application/vnd.jupyter.widget-view+json": {
       "model_id": "0df0b08a20314ce3bce5f6d6df19be48",
       "version_major": 2,
       "version_minor": 0
      },
      "text/plain": [
       "  0%|          | 0/4 [00:00<?, ?it/s]"
      ]
     },
     "metadata": {},
     "output_type": "display_data"
    },
    {
     "name": "stdout",
     "output_type": "stream",
     "text": [
      "EPOCH 4| TRAIN LOSS: 2.376|  TEST LOSS: 2.367|  TEST_PRECISION: 0.014| TEST_RECALL: 1.000| TEST_ACCURACY: 0.014| TEST_F1: 0.027| TEST_IOU: 0.014| \n"
     ]
    },
    {
     "data": {
      "application/vnd.jupyter.widget-view+json": {
       "model_id": "75a95a7393be4e87bcedd3cebcf1b186",
       "version_major": 2,
       "version_minor": 0
      },
      "text/plain": [
       "  0%|          | 0/30 [00:00<?, ?it/s]"
      ]
     },
     "metadata": {},
     "output_type": "display_data"
    },
    {
     "data": {
      "application/vnd.jupyter.widget-view+json": {
       "model_id": "2f584587a64b49aa82a01cf7c7a653ed",
       "version_major": 2,
       "version_minor": 0
      },
      "text/plain": [
       "  0%|          | 0/4 [00:00<?, ?it/s]"
      ]
     },
     "metadata": {},
     "output_type": "display_data"
    },
    {
     "name": "stdout",
     "output_type": "stream",
     "text": [
      "EPOCH 5| TRAIN LOSS: 2.239|  TEST LOSS: 2.356|  TEST_PRECISION: 0.013| TEST_RECALL: 1.000| TEST_ACCURACY: 0.014| TEST_F1: 0.026| TEST_IOU: 0.013| \n"
     ]
    },
    {
     "data": {
      "application/vnd.jupyter.widget-view+json": {
       "model_id": "d939d4cba1854c328ba55eeb6045612d",
       "version_major": 2,
       "version_minor": 0
      },
      "text/plain": [
       "  0%|          | 0/30 [00:00<?, ?it/s]"
      ]
     },
     "metadata": {},
     "output_type": "display_data"
    },
    {
     "data": {
      "application/vnd.jupyter.widget-view+json": {
       "model_id": "05c54556127546a6869f2dd02f8affb8",
       "version_major": 2,
       "version_minor": 0
      },
      "text/plain": [
       "  0%|          | 0/4 [00:00<?, ?it/s]"
      ]
     },
     "metadata": {},
     "output_type": "display_data"
    },
    {
     "name": "stdout",
     "output_type": "stream",
     "text": [
      "EPOCH 6| TRAIN LOSS: 2.212|  TEST LOSS: 2.516|  TEST_PRECISION: 0.017| TEST_RECALL: 0.999| TEST_ACCURACY: 0.025| TEST_F1: 0.034| TEST_IOU: 0.017| \n"
     ]
    },
    {
     "data": {
      "application/vnd.jupyter.widget-view+json": {
       "model_id": "69f6871d790c4f54a3da9af42b49e0fe",
       "version_major": 2,
       "version_minor": 0
      },
      "text/plain": [
       "  0%|          | 0/30 [00:00<?, ?it/s]"
      ]
     },
     "metadata": {},
     "output_type": "display_data"
    },
    {
     "data": {
      "application/vnd.jupyter.widget-view+json": {
       "model_id": "16cace3bf176460380de49223bdd0d78",
       "version_major": 2,
       "version_minor": 0
      },
      "text/plain": [
       "  0%|          | 0/4 [00:00<?, ?it/s]"
      ]
     },
     "metadata": {},
     "output_type": "display_data"
    },
    {
     "name": "stdout",
     "output_type": "stream",
     "text": [
      "EPOCH 7| TRAIN LOSS: 2.100|  TEST LOSS: 2.322|  TEST_PRECISION: 0.015| TEST_RECALL: 0.989| TEST_ACCURACY: 0.054| TEST_F1: 0.029| TEST_IOU: 0.015| \n",
      "Saving new best model at model/best_model.pth\n"
     ]
    },
    {
     "data": {
      "application/vnd.jupyter.widget-view+json": {
       "model_id": "250c2dcb12cc44a78f219c99a52cb497",
       "version_major": 2,
       "version_minor": 0
      },
      "text/plain": [
       "  0%|          | 0/30 [00:00<?, ?it/s]"
      ]
     },
     "metadata": {},
     "output_type": "display_data"
    },
    {
     "data": {
      "application/vnd.jupyter.widget-view+json": {
       "model_id": "26a4bb0874dd438ead07f01381e0b68a",
       "version_major": 2,
       "version_minor": 0
      },
      "text/plain": [
       "  0%|          | 0/4 [00:00<?, ?it/s]"
      ]
     },
     "metadata": {},
     "output_type": "display_data"
    },
    {
     "name": "stdout",
     "output_type": "stream",
     "text": [
      "EPOCH 8| TRAIN LOSS: 2.175|  TEST LOSS: 2.884|  TEST_PRECISION: 0.027| TEST_RECALL: 0.742| TEST_ACCURACY: 0.531| TEST_F1: 0.051| TEST_IOU: 0.027| \n"
     ]
    },
    {
     "data": {
      "application/vnd.jupyter.widget-view+json": {
       "model_id": "5c36f66b54be47d492a1fff57bc4499e",
       "version_major": 2,
       "version_minor": 0
      },
      "text/plain": [
       "  0%|          | 0/30 [00:00<?, ?it/s]"
      ]
     },
     "metadata": {},
     "output_type": "display_data"
    },
    {
     "data": {
      "application/vnd.jupyter.widget-view+json": {
       "model_id": "955a76588c444ecf944381992504ec5b",
       "version_major": 2,
       "version_minor": 0
      },
      "text/plain": [
       "  0%|          | 0/4 [00:00<?, ?it/s]"
      ]
     },
     "metadata": {},
     "output_type": "display_data"
    },
    {
     "name": "stdout",
     "output_type": "stream",
     "text": [
      "EPOCH 9| TRAIN LOSS: 2.078|  TEST LOSS: 2.956|  TEST_PRECISION: 0.026| TEST_RECALL: 0.783| TEST_ACCURACY: 0.495| TEST_F1: 0.049| TEST_IOU: 0.026| \n"
     ]
    },
    {
     "data": {
      "application/vnd.jupyter.widget-view+json": {
       "model_id": "117df6b1676f400a83568e3222c84996",
       "version_major": 2,
       "version_minor": 0
      },
      "text/plain": [
       "  0%|          | 0/30 [00:00<?, ?it/s]"
      ]
     },
     "metadata": {},
     "output_type": "display_data"
    },
    {
     "data": {
      "application/vnd.jupyter.widget-view+json": {
       "model_id": "27c7316344d548a48e20032fedc952f8",
       "version_major": 2,
       "version_minor": 0
      },
      "text/plain": [
       "  0%|          | 0/4 [00:00<?, ?it/s]"
      ]
     },
     "metadata": {},
     "output_type": "display_data"
    },
    {
     "name": "stdout",
     "output_type": "stream",
     "text": [
      "EPOCH 10| TRAIN LOSS: 2.110|  TEST LOSS: 2.180|  TEST_PRECISION: 0.026| TEST_RECALL: 0.807| TEST_ACCURACY: 0.601| TEST_F1: 0.049| TEST_IOU: 0.026| \n",
      "Saving new best model at model/best_model.pth\n"
     ]
    },
    {
     "data": {
      "application/vnd.jupyter.widget-view+json": {
       "model_id": "1a2df31bcf67443ea582d4977dfc50cb",
       "version_major": 2,
       "version_minor": 0
      },
      "text/plain": [
       "  0%|          | 0/30 [00:00<?, ?it/s]"
      ]
     },
     "metadata": {},
     "output_type": "display_data"
    },
    {
     "data": {
      "application/vnd.jupyter.widget-view+json": {
       "model_id": "62519fafb4034de5abfd3049dc13987f",
       "version_major": 2,
       "version_minor": 0
      },
      "text/plain": [
       "  0%|          | 0/4 [00:00<?, ?it/s]"
      ]
     },
     "metadata": {},
     "output_type": "display_data"
    },
    {
     "name": "stdout",
     "output_type": "stream",
     "text": [
      "EPOCH 11| TRAIN LOSS: 2.171|  TEST LOSS: 2.013|  TEST_PRECISION: 0.017| TEST_RECALL: 0.900| TEST_ACCURACY: 0.337| TEST_F1: 0.033| TEST_IOU: 0.017| \n",
      "Saving new best model at model/best_model.pth\n"
     ]
    },
    {
     "data": {
      "application/vnd.jupyter.widget-view+json": {
       "model_id": "798086ed5d3e4002add5f41209a3e5e4",
       "version_major": 2,
       "version_minor": 0
      },
      "text/plain": [
       "  0%|          | 0/30 [00:00<?, ?it/s]"
      ]
     },
     "metadata": {},
     "output_type": "display_data"
    },
    {
     "data": {
      "application/vnd.jupyter.widget-view+json": {
       "model_id": "5b419b9f80b2406294482a5f8ffb0043",
       "version_major": 2,
       "version_minor": 0
      },
      "text/plain": [
       "  0%|          | 0/4 [00:00<?, ?it/s]"
      ]
     },
     "metadata": {},
     "output_type": "display_data"
    },
    {
     "name": "stdout",
     "output_type": "stream",
     "text": [
      "EPOCH 12| TRAIN LOSS: 2.123|  TEST LOSS: 1.958|  TEST_PRECISION: 0.017| TEST_RECALL: 0.979| TEST_ACCURACY: 0.215| TEST_F1: 0.033| TEST_IOU: 0.017| \n",
      "Saving new best model at model/best_model.pth\n"
     ]
    },
    {
     "data": {
      "application/vnd.jupyter.widget-view+json": {
       "model_id": "0ffeb4ba70ba4b288455b5552a103210",
       "version_major": 2,
       "version_minor": 0
      },
      "text/plain": [
       "  0%|          | 0/30 [00:00<?, ?it/s]"
      ]
     },
     "metadata": {},
     "output_type": "display_data"
    },
    {
     "data": {
      "application/vnd.jupyter.widget-view+json": {
       "model_id": "770e97ee6d1b42548c71cbcb2dcf7345",
       "version_major": 2,
       "version_minor": 0
      },
      "text/plain": [
       "  0%|          | 0/4 [00:00<?, ?it/s]"
      ]
     },
     "metadata": {},
     "output_type": "display_data"
    },
    {
     "name": "stdout",
     "output_type": "stream",
     "text": [
      "EPOCH 13| TRAIN LOSS: 2.233|  TEST LOSS: 2.320|  TEST_PRECISION: 0.035| TEST_RECALL: 0.779| TEST_ACCURACY: 0.677| TEST_F1: 0.067| TEST_IOU: 0.035| \n"
     ]
    },
    {
     "data": {
      "application/vnd.jupyter.widget-view+json": {
       "model_id": "c53727690dd549c19e9a6633d970d05c",
       "version_major": 2,
       "version_minor": 0
      },
      "text/plain": [
       "  0%|          | 0/30 [00:00<?, ?it/s]"
      ]
     },
     "metadata": {},
     "output_type": "display_data"
    },
    {
     "data": {
      "application/vnd.jupyter.widget-view+json": {
       "model_id": "ecb118790025437c9ee700a73a5252f7",
       "version_major": 2,
       "version_minor": 0
      },
      "text/plain": [
       "  0%|          | 0/4 [00:00<?, ?it/s]"
      ]
     },
     "metadata": {},
     "output_type": "display_data"
    },
    {
     "name": "stdout",
     "output_type": "stream",
     "text": [
      "EPOCH 14| TRAIN LOSS: 2.095|  TEST LOSS: 1.844|  TEST_PRECISION: 0.026| TEST_RECALL: 0.897| TEST_ACCURACY: 0.565| TEST_F1: 0.049| TEST_IOU: 0.025| \n",
      "Saving new best model at model/best_model.pth\n"
     ]
    },
    {
     "data": {
      "application/vnd.jupyter.widget-view+json": {
       "model_id": "d06f4c50937e4c1398973324ad713179",
       "version_major": 2,
       "version_minor": 0
      },
      "text/plain": [
       "  0%|          | 0/30 [00:00<?, ?it/s]"
      ]
     },
     "metadata": {},
     "output_type": "display_data"
    },
    {
     "data": {
      "application/vnd.jupyter.widget-view+json": {
       "model_id": "1f3f64aa04404f1cb39fb6518ab5968b",
       "version_major": 2,
       "version_minor": 0
      },
      "text/plain": [
       "  0%|          | 0/4 [00:00<?, ?it/s]"
      ]
     },
     "metadata": {},
     "output_type": "display_data"
    },
    {
     "name": "stdout",
     "output_type": "stream",
     "text": [
      "EPOCH 15| TRAIN LOSS: 2.006|  TEST LOSS: 2.200|  TEST_PRECISION: 0.041| TEST_RECALL: 0.801| TEST_ACCURACY: 0.731| TEST_F1: 0.077| TEST_IOU: 0.040| \n"
     ]
    },
    {
     "data": {
      "application/vnd.jupyter.widget-view+json": {
       "model_id": "487cf7517cf141e19ed9c92d616ac09f",
       "version_major": 2,
       "version_minor": 0
      },
      "text/plain": [
       "  0%|          | 0/30 [00:00<?, ?it/s]"
      ]
     },
     "metadata": {},
     "output_type": "display_data"
    },
    {
     "data": {
      "application/vnd.jupyter.widget-view+json": {
       "model_id": "79f39ecd46594f7fac209f1f4c1a62af",
       "version_major": 2,
       "version_minor": 0
      },
      "text/plain": [
       "  0%|          | 0/4 [00:00<?, ?it/s]"
      ]
     },
     "metadata": {},
     "output_type": "display_data"
    },
    {
     "name": "stdout",
     "output_type": "stream",
     "text": [
      "EPOCH 16| TRAIN LOSS: 2.194|  TEST LOSS: 1.865|  TEST_PRECISION: 0.020| TEST_RECALL: 0.926| TEST_ACCURACY: 0.360| TEST_F1: 0.039| TEST_IOU: 0.020| \n"
     ]
    },
    {
     "data": {
      "application/vnd.jupyter.widget-view+json": {
       "model_id": "1110da97c2fb42888209d25b985ef094",
       "version_major": 2,
       "version_minor": 0
      },
      "text/plain": [
       "  0%|          | 0/30 [00:00<?, ?it/s]"
      ]
     },
     "metadata": {},
     "output_type": "display_data"
    },
    {
     "data": {
      "application/vnd.jupyter.widget-view+json": {
       "model_id": "e308fe88328f40d5b4ad6155b531f772",
       "version_major": 2,
       "version_minor": 0
      },
      "text/plain": [
       "  0%|          | 0/4 [00:00<?, ?it/s]"
      ]
     },
     "metadata": {},
     "output_type": "display_data"
    },
    {
     "name": "stdout",
     "output_type": "stream",
     "text": [
      "EPOCH 17| TRAIN LOSS: 1.877|  TEST LOSS: 1.704|  TEST_PRECISION: 0.022| TEST_RECALL: 0.930| TEST_ACCURACY: 0.507| TEST_F1: 0.043| TEST_IOU: 0.022| \n",
      "Saving new best model at model/best_model.pth\n"
     ]
    },
    {
     "data": {
      "application/vnd.jupyter.widget-view+json": {
       "model_id": "27c29afa6f5b462dad1fec68d35afe50",
       "version_major": 2,
       "version_minor": 0
      },
      "text/plain": [
       "  0%|          | 0/30 [00:00<?, ?it/s]"
      ]
     },
     "metadata": {},
     "output_type": "display_data"
    },
    {
     "data": {
      "application/vnd.jupyter.widget-view+json": {
       "model_id": "8356b24a161b4915808a7fd883033352",
       "version_major": 2,
       "version_minor": 0
      },
      "text/plain": [
       "  0%|          | 0/4 [00:00<?, ?it/s]"
      ]
     },
     "metadata": {},
     "output_type": "display_data"
    },
    {
     "name": "stdout",
     "output_type": "stream",
     "text": [
      "EPOCH 18| TRAIN LOSS: 2.013|  TEST LOSS: 1.872|  TEST_PRECISION: 0.027| TEST_RECALL: 0.944| TEST_ACCURACY: 0.401| TEST_F1: 0.052| TEST_IOU: 0.027| \n"
     ]
    },
    {
     "data": {
      "application/vnd.jupyter.widget-view+json": {
       "model_id": "26de19c678bf4bc7b1650ae0d22c5e1c",
       "version_major": 2,
       "version_minor": 0
      },
      "text/plain": [
       "  0%|          | 0/30 [00:00<?, ?it/s]"
      ]
     },
     "metadata": {},
     "output_type": "display_data"
    },
    {
     "data": {
      "application/vnd.jupyter.widget-view+json": {
       "model_id": "51e888b60adc4434a4e0ac71b4857367",
       "version_major": 2,
       "version_minor": 0
      },
      "text/plain": [
       "  0%|          | 0/4 [00:00<?, ?it/s]"
      ]
     },
     "metadata": {},
     "output_type": "display_data"
    },
    {
     "name": "stdout",
     "output_type": "stream",
     "text": [
      "EPOCH 19| TRAIN LOSS: 1.955|  TEST LOSS: 1.667|  TEST_PRECISION: 0.018| TEST_RECALL: 0.975| TEST_ACCURACY: 0.324| TEST_F1: 0.035| TEST_IOU: 0.018| \n",
      "Saving new best model at model/best_model.pth\n"
     ]
    },
    {
     "data": {
      "application/vnd.jupyter.widget-view+json": {
       "model_id": "22ea1896dcb146989987aff0e1a6e0ca",
       "version_major": 2,
       "version_minor": 0
      },
      "text/plain": [
       "  0%|          | 0/30 [00:00<?, ?it/s]"
      ]
     },
     "metadata": {},
     "output_type": "display_data"
    },
    {
     "data": {
      "application/vnd.jupyter.widget-view+json": {
       "model_id": "d74bfc0a0091431586fc2dd71c4c8eb6",
       "version_major": 2,
       "version_minor": 0
      },
      "text/plain": [
       "  0%|          | 0/4 [00:00<?, ?it/s]"
      ]
     },
     "metadata": {},
     "output_type": "display_data"
    },
    {
     "name": "stdout",
     "output_type": "stream",
     "text": [
      "EPOCH 20| TRAIN LOSS: 1.920|  TEST LOSS: 1.740|  TEST_PRECISION: 0.025| TEST_RECALL: 0.967| TEST_ACCURACY: 0.385| TEST_F1: 0.048| TEST_IOU: 0.025| \n"
     ]
    },
    {
     "data": {
      "application/vnd.jupyter.widget-view+json": {
       "model_id": "890db72eb53c43b0aa590218daff87e0",
       "version_major": 2,
       "version_minor": 0
      },
      "text/plain": [
       "  0%|          | 0/30 [00:00<?, ?it/s]"
      ]
     },
     "metadata": {},
     "output_type": "display_data"
    },
    {
     "data": {
      "application/vnd.jupyter.widget-view+json": {
       "model_id": "c5481327da024ccf9c4d97923034daa5",
       "version_major": 2,
       "version_minor": 0
      },
      "text/plain": [
       "  0%|          | 0/4 [00:00<?, ?it/s]"
      ]
     },
     "metadata": {},
     "output_type": "display_data"
    },
    {
     "name": "stdout",
     "output_type": "stream",
     "text": [
      "EPOCH 21| TRAIN LOSS: 1.954|  TEST LOSS: 1.613|  TEST_PRECISION: 0.020| TEST_RECALL: 0.969| TEST_ACCURACY: 0.369| TEST_F1: 0.039| TEST_IOU: 0.020| \n",
      "Saving new best model at model/best_model.pth\n"
     ]
    },
    {
     "data": {
      "application/vnd.jupyter.widget-view+json": {
       "model_id": "9bf9b949727f4dbd9482185abf3fde4c",
       "version_major": 2,
       "version_minor": 0
      },
      "text/plain": [
       "  0%|          | 0/30 [00:00<?, ?it/s]"
      ]
     },
     "metadata": {},
     "output_type": "display_data"
    },
    {
     "data": {
      "application/vnd.jupyter.widget-view+json": {
       "model_id": "b07c9b4966964c3ea34ecd095b709871",
       "version_major": 2,
       "version_minor": 0
      },
      "text/plain": [
       "  0%|          | 0/4 [00:00<?, ?it/s]"
      ]
     },
     "metadata": {},
     "output_type": "display_data"
    },
    {
     "name": "stdout",
     "output_type": "stream",
     "text": [
      "EPOCH 22| TRAIN LOSS: 1.871|  TEST LOSS: 1.595|  TEST_PRECISION: 0.026| TEST_RECALL: 0.963| TEST_ACCURACY: 0.467| TEST_F1: 0.049| TEST_IOU: 0.026| \n",
      "Saving new best model at model/best_model.pth\n"
     ]
    },
    {
     "data": {
      "application/vnd.jupyter.widget-view+json": {
       "model_id": "cd9c3c0d3da843d3869d3f1dedc50bbb",
       "version_major": 2,
       "version_minor": 0
      },
      "text/plain": [
       "  0%|          | 0/30 [00:00<?, ?it/s]"
      ]
     },
     "metadata": {},
     "output_type": "display_data"
    },
    {
     "data": {
      "application/vnd.jupyter.widget-view+json": {
       "model_id": "fc530f828d5a4806a6604361d5ddbe81",
       "version_major": 2,
       "version_minor": 0
      },
      "text/plain": [
       "  0%|          | 0/4 [00:00<?, ?it/s]"
      ]
     },
     "metadata": {},
     "output_type": "display_data"
    },
    {
     "name": "stdout",
     "output_type": "stream",
     "text": [
      "EPOCH 23| TRAIN LOSS: 1.917|  TEST LOSS: 1.658|  TEST_PRECISION: 0.020| TEST_RECALL: 0.927| TEST_ACCURACY: 0.401| TEST_F1: 0.038| TEST_IOU: 0.020| \n"
     ]
    },
    {
     "data": {
      "application/vnd.jupyter.widget-view+json": {
       "model_id": "84fbebd509a84f529276ca925a382ad5",
       "version_major": 2,
       "version_minor": 0
      },
      "text/plain": [
       "  0%|          | 0/30 [00:00<?, ?it/s]"
      ]
     },
     "metadata": {},
     "output_type": "display_data"
    },
    {
     "data": {
      "application/vnd.jupyter.widget-view+json": {
       "model_id": "f07e786b89ce40dc8e74a17512166598",
       "version_major": 2,
       "version_minor": 0
      },
      "text/plain": [
       "  0%|          | 0/4 [00:00<?, ?it/s]"
      ]
     },
     "metadata": {},
     "output_type": "display_data"
    },
    {
     "name": "stdout",
     "output_type": "stream",
     "text": [
      "EPOCH 24| TRAIN LOSS: 1.931|  TEST LOSS: 1.867|  TEST_PRECISION: 0.029| TEST_RECALL: 0.922| TEST_ACCURACY: 0.496| TEST_F1: 0.056| TEST_IOU: 0.029| \n"
     ]
    },
    {
     "data": {
      "application/vnd.jupyter.widget-view+json": {
       "model_id": "e712141a06cc4e208844ca0b23634e66",
       "version_major": 2,
       "version_minor": 0
      },
      "text/plain": [
       "  0%|          | 0/30 [00:00<?, ?it/s]"
      ]
     },
     "metadata": {},
     "output_type": "display_data"
    }
   ],
   "source": [
    "main(args)"
   ]
  },
  {
   "cell_type": "code",
   "execution_count": null,
   "id": "22fa07f9",
   "metadata": {},
   "outputs": [],
   "source": [
    "train_set, test_set = get_datasets(args)\n",
    "model = get_model(args)"
   ]
  },
  {
   "cell_type": "code",
   "execution_count": null,
   "id": "4d2d3b41",
   "metadata": {},
   "outputs": [],
   "source": [
    "model.load_state_dict(torch.load('model/best_model.pth'))\n",
    "model.to('cpu')\n",
    "model.eval()\n",
    "print('Model loaded')"
   ]
  },
  {
   "cell_type": "code",
   "execution_count": null,
   "id": "9aedfba9",
   "metadata": {},
   "outputs": [],
   "source": [
    "test_iter = iter(test_set)"
   ]
  },
  {
   "cell_type": "code",
   "execution_count": null,
   "id": "c4f87bd1",
   "metadata": {},
   "outputs": [],
   "source": [
    "# create a new figure\n",
    "fig = plt.figure(figsize=(10, 5))\n",
    "org, mask = next(test_iter)\n",
    "with torch.inference_mode():\n",
    "    prediction = model.predict(org.unsqueeze(dim = 0)).squeeze(0)\n",
    "    prediction_img = torch.moveaxis(F.softmax(prediction, dim = 1), 0, -1)\n",
    "    \n",
    "# add the original image subplot to the figure\n",
    "ax1 = fig.add_subplot(1, 3, 1)\n",
    "ax1.imshow(torch.moveaxis(org, 0, -1))\n",
    "ax1.set_title('Original Image')\n",
    "\n",
    "# add the mask subplot to the figure\n",
    "ax2 = fig.add_subplot(1, 3, 2)\n",
    "ax2.imshow(torch.moveaxis(mask, 0, -1))\n",
    "ax2.set_title('Mask')\n",
    "\n",
    "# add the prediction subplot to the figure\n",
    "ax3 = fig.add_subplot(1, 3, 3)\n",
    "ax3.imshow(prediction_img)\n",
    "ax3.set_title('Prediction')\n",
    "\n",
    "# adjust the spacing between subplots\n",
    "fig.tight_layout()\n",
    "\n",
    "# show the figure\n",
    "plt.show()"
   ]
  },
  {
   "cell_type": "code",
   "execution_count": null,
   "id": "e7966641",
   "metadata": {},
   "outputs": [],
   "source": []
  },
  {
   "cell_type": "code",
   "execution_count": null,
   "id": "f0f28a93",
   "metadata": {},
   "outputs": [],
   "source": []
  },
  {
   "cell_type": "code",
   "execution_count": null,
   "id": "67b54a5f",
   "metadata": {},
   "outputs": [],
   "source": []
  },
  {
   "cell_type": "code",
   "execution_count": null,
   "id": "13b97fdf",
   "metadata": {},
   "outputs": [],
   "source": []
  },
  {
   "cell_type": "code",
   "execution_count": null,
   "id": "804f2b1d",
   "metadata": {},
   "outputs": [],
   "source": []
  },
  {
   "cell_type": "code",
   "execution_count": null,
   "id": "1d0528d2",
   "metadata": {},
   "outputs": [],
   "source": []
  },
  {
   "cell_type": "code",
   "execution_count": null,
   "id": "9dd7e48f",
   "metadata": {},
   "outputs": [],
   "source": []
  }
 ],
 "metadata": {
  "kernelspec": {
   "display_name": "Python 3 (ipykernel)",
   "language": "python",
   "name": "python3"
  },
  "language_info": {
   "codemirror_mode": {
    "name": "ipython",
    "version": 3
   },
   "file_extension": ".py",
   "mimetype": "text/x-python",
   "name": "python",
   "nbconvert_exporter": "python",
   "pygments_lexer": "ipython3",
   "version": "3.9.16"
  }
 },
 "nbformat": 4,
 "nbformat_minor": 5
}
